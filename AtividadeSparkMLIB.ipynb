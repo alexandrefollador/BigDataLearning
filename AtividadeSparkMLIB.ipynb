{
 "cells": [
  {
   "cell_type": "markdown",
   "metadata": {},
   "source": [
    "# Atividade Aprendizagem de Máquina - Spark MLLib\n",
    "\n",
    "Considerando o dataset detalhado a seguir, aplique as técnicas solicitadas\n",
    "\n",
    "### Dataset dados de sensores veicular\n",
    "\n",
    "- Arquivo disponível em /home/dados/sensores/treinamento.csv\n",
    "- Arquivo disponível em /home/dados/sensores/teste.csv\n",
    "- Dados relativos a sensores de internet das coisas (IoT) para detecção de estados dos medidores\n",
    "\n",
    "\n",
    "| #  \t| Nome do campo           \t| Descrição                                                                     \t|\n",
    "|----\t|-------------------------\t|-------------------------------------------------------------------------------\t|\n",
    "| 0  \t| Hora               \t| Hora média das medições                                                          \t|\n",
    "| 1  \t| Minuto         \t| Minuto médio das medições                                               \t|\n",
    "| 2  \t| Temp_minima         \t| Temperatura mínima das medições                                               \t|\n",
    "| 3  \t| Temp_maxima         \t| Temperatura máxima das medições                                               \t|\n",
    "| 4  \t| Latitude_media  \t| Latitude média das medições                             \t|\n",
    "| 5  \t| Longitude_media  \t| Longitude média das medições                             \t|\n",
    "| 6  \t| Classe  \t| Estado do medidor (Frio, Moderado, Quente, Alerta)                             \t|\n",
    "\n",
    "\n",
    "**Informações a serem extraídas:**\n",
    "\n",
    "1. Calcule a acurácia de classificação na base de testes para os seguintes classificadores:\n",
    "    1. Árvore de Decisão (from pyspark.ml.classification import DecisionTreeClassifier)\n",
    "    2. Random Forest com 5 arvores (from pyspark.ml.classification import RandomForestClassifier, e numTrees=5 no construtor do RandomForestClassifier)\n",
    "    3. Random Forest com 100 arvores (numTrees=100 no construtor do RandomForestClassifier)\n",
    "2. Determine qual a quantidade de eventos Alerta (label = 3.0) classificados erroneamente como outra classe (falso-negativo) para os classificadores\n",
    "    1. Árvore de Decisão (from pyspark.ml.classification import DecisionTreeClassifier)\n",
    "    2. Random Forest com 5 arvores (from pyspark.ml.classification import RandomForestClassifier, e numTrees=5 no construtor do RandomForestClassifier)\n",
    "    3. Random Forest com 100 arvores (numTrees=100 no construtor do RandomForestClassifier)\n",
    "3. Determine qual a quantidade de eventos não Alerta (label = 0.0, ou label = 1.0, ou label = 2.0) classificados erroneamente como classe Alerta (falso-positivo) para os classificadores\n",
    "    1. Árvore de Decisão (from pyspark.ml.classification import DecisionTreeClassifier)\n",
    "    2. Random Forest com 5 arvores (from pyspark.ml.classification import RandomForestClassifier, e numTrees=5 no construtor do RandomForestClassifier)\n",
    "    3. Random Forest com 100 arvores (numTrees=100 no construtor do RandomForestClassifier)\n",
    "4. Faça votação entre os classificadores da etapa 1.A, 1.B e 1.C para atribuir a classe do evento de acordo com a maioria das classes entre os classificadores\n",
    "    - Dicas: Para isto, voce irá precisar fazer o join das predições de cada classificador de acordo com os IDs dos eventos. Posteriormente voce pode manipular o dataframe, após o join, para determinar qual classe de cada evento possuiu maior votação =). Exemplo de código:\n",
    "```python\n",
    "\n",
    "    import pyspark.sql.functions as func\n",
    "    \n",
    "    predicaoDT.select(func.col('prediction').alias('prediction_dt'),\n",
    "                        func.col('label'),\n",
    "                        func.col('id'))\\\n",
    "    .join(predicaoRF.select(func.col('prediction').alias('prediction_rf'),\n",
    "                        func.col('id')), ['id'])\n",
    "```\n",
    "5. Considerando que voce possui apenas duas classes: Não Alerta e Alerta. Calcule a acurácia de classificação na base de testes para os seguintes classificadores:\n",
    "    1. Árvore de Decisão (from pyspark.ml.classification import DecisionTreeClassifier)\n",
    "    2. Random Forest com 20 arvores (from pyspark.ml.classification import RandomForestClassifier, e numTrees=20 no construtor do RandomForestClassifier)\n",
    "    3. Random Forest com 100 arvores (numTrees=100 no construtor do RandomForestClassifier)\n",
    "        - Dicas: Para isto, você irá precisar manipular o dataframe para alterar os valores da coluna label, por exemplo através de uma UDF\n",
    "6. Determine qual a quantidade de eventos Alerta (label = 3.0) classificados erroneamente como outra classe (falso-negativo) para os classificadores do item 5\n",
    "7. Faça busca de parametros dos classificadores desenvolvidos no item 5. Plote um gráfico relacionando a acurácia e os parametros otimizados\n",
    "    1. Árvore de Decisão varie o parametro maxDepth de 1 a 20\n",
    "    2. Random Forest varie o numTrees de 1 a 20\n",
    "\n",
    "**Dicas:**\n",
    "- *Crie uma célula (Insert -> Insert Cell Below) para cada informação solicitada*\n",
    "- *A análise deve ser feita sobre os dados do HDFS*\n",
    "- *Inicialize o seu cluster executando o script em: Desktop/ambientes/spark/inicializar.sh*\n",
    "- *Acesse o seu cluster executando o script em: Desktop/ambientes/spark/abrir_navegador.sh*"
   ]
  },
  {
   "cell_type": "code",
   "execution_count": 1,
   "metadata": {},
   "outputs": [],
   "source": [
    "import os\n",
    "os.environ['PYSPARK_PYTHON']='/usr/bin/python3'\n",
    "\n",
    "from pyspark.sql import SparkSession\n",
    "\n",
    "sc = SparkSession\\\n",
    "    .builder\\\n",
    "    .master('spark://spark-master:7077')\\\n",
    "    .config('spark.executor.memory','1g')\\\n",
    "    .getOrCreate()"
   ]
  },
  {
   "cell_type": "code",
   "execution_count": 2,
   "metadata": {},
   "outputs": [],
   "source": [
    "dfTreino = sc.read\\\n",
    "    .option('delimiter',',')\\\n",
    "    .option('header','true')\\\n",
    "    .option('inferschema','true')\\\n",
    "    .csv('hdfs://namenode:9000/treinamento.csv')\n",
    "\n",
    "dfTeste = sc.read\\\n",
    "    .option('delimiter',',')\\\n",
    "    .option('header','true')\\\n",
    "    .option('inferschema','true')\\\n",
    "    .csv('hdfs://namenode:9000/teste.csv')"
   ]
  },
  {
   "cell_type": "code",
   "execution_count": 3,
   "metadata": {
    "scrolled": true
   },
   "outputs": [
    {
     "name": "stdout",
     "output_type": "stream",
     "text": [
      "root\n",
      " |-- hora: double (nullable = true)\n",
      " |-- minuto: double (nullable = true)\n",
      " |-- temp_minima: double (nullable = true)\n",
      " |-- temp_maxima: double (nullable = true)\n",
      " |-- latitude_media: double (nullable = true)\n",
      " |-- longitude_media: double (nullable = true)\n",
      " |-- Classe: string (nullable = true)\n",
      "\n"
     ]
    }
   ],
   "source": [
    "dfTreino.printSchema()"
   ]
  },
  {
   "cell_type": "code",
   "execution_count": 4,
   "metadata": {
    "scrolled": true
   },
   "outputs": [
    {
     "name": "stdout",
     "output_type": "stream",
     "text": [
      "+---------+---------+-----------+-----------+--------------+---------------+--------+---+\n",
      "|     hora|   minuto|temp_minima|temp_maxima|latitude_media|longitude_media|  Classe| id|\n",
      "+---------+---------+-----------+-----------+--------------+---------------+--------+---+\n",
      "|11.787212|29.005116|      1.123|     28.606|      34.56035|      136.21983|Moderado|  0|\n",
      "|11.482636| 29.84576|      1.038|  29.306004|      34.56078|      136.22015|Moderado|  1|\n",
      "|11.312064|29.751745|      1.123|  29.006002|      34.55864|      136.22047|Moderado|  2|\n",
      "|11.530982|29.505793|      1.404|  29.081003|     34.560654|      136.22006|Moderado|  3|\n",
      "|  11.4008|29.422289|      1.504|  29.181004|     34.559814|      136.22006|Moderado|  4|\n",
      "+---------+---------+-----------+-----------+--------------+---------------+--------+---+\n",
      "only showing top 5 rows\n",
      "\n"
     ]
    }
   ],
   "source": [
    "from pyspark.sql.functions import monotonically_increasing_id\n",
    "\n",
    "dfTeste = dfTeste.withColumn('id', monotonically_increasing_id())\n",
    "dfTeste.show(5)"
   ]
  },
  {
   "cell_type": "code",
   "execution_count": 5,
   "metadata": {},
   "outputs": [
    {
     "name": "stdout",
     "output_type": "stream",
     "text": [
      "+---------+---------+-----------+-----------+--------------+---------------+--------+-----+--------------------+\n",
      "|     hora|   minuto|temp_minima|temp_maxima|latitude_media|longitude_media|  Classe|label|            features|\n",
      "+---------+---------+-----------+-----------+--------------+---------------+--------+-----+--------------------+\n",
      "|11.312758|30.169239|     -1.859|     27.495|     36.169994|      139.23022|Moderado|  0.0|[11.312758,30.169...|\n",
      "|11.292323|29.638779|   8.542997|  36.177994|     31.349113|       73.50964|  Quente|  3.0|[11.292323,29.638...|\n",
      "|11.600304| 29.64275|     -1.861|  27.695002|      36.17158|      139.22937|Moderado|  0.0|[11.600304,29.642...|\n",
      "|11.462425|30.157314|   9.776998|  36.077995|     31.351593|        73.5104|  Quente|  3.0|[11.462425,30.157...|\n",
      "|11.735474|  29.9684|     -1.662|  27.695002|     36.169456|      139.23021|Moderado|  0.0|[11.735474,29.968...|\n",
      "+---------+---------+-----------+-----------+--------------+---------------+--------+-----+--------------------+\n",
      "only showing top 5 rows\n",
      "\n"
     ]
    }
   ],
   "source": [
    "from pyspark.ml.feature import StringIndexer, VectorAssembler\n",
    "\n",
    "features = ['hora', 'minuto', 'temp_minima', 'temp_maxima', 'latitude_media', 'longitude_media']\n",
    "\n",
    "# Criando Y (df treino)\n",
    "dfTreino = StringIndexer(inputCol='Classe', outputCol='label')\\\n",
    "    .fit(dfTreino)\\\n",
    "    .transform(dfTreino)\n",
    "\n",
    "# Criando X (df treino)\n",
    "dfTreino = VectorAssembler(inputCols=features, outputCol='features')\\\n",
    "    .transform(dfTreino)\n",
    "\n",
    "dfTreino.show(5)"
   ]
  },
  {
   "cell_type": "code",
   "execution_count": 6,
   "metadata": {},
   "outputs": [],
   "source": [
    "from pyspark.ml.feature import StringIndexer, VectorAssembler\n",
    "\n",
    "features = ['hora', 'minuto', 'temp_minima', 'temp_maxima', 'latitude_media', 'longitude_media']\n",
    "\n",
    "# Criando Y (df teste)\n",
    "dfTeste = StringIndexer(inputCol='Classe', outputCol='label')\\\n",
    "    .fit(dfTeste)\\\n",
    "    .transform(dfTeste)\n",
    "\n",
    "# Criando X (df teste)\n",
    "dfTeste = VectorAssembler(inputCols=features, outputCol='features')\\\n",
    "    .transform(dfTeste)"
   ]
  },
  {
   "cell_type": "code",
   "execution_count": 7,
   "metadata": {},
   "outputs": [],
   "source": [
    "#informação 1.A\n",
    "from pyspark.ml.classification import DecisionTreeClassifier\n",
    "import pyspark.sql.functions as func\n",
    "\n",
    "dt = DecisionTreeClassifier(labelCol='label', featuresCol='features')\n",
    "modeloDT = dt.fit(dfTreino)"
   ]
  },
  {
   "cell_type": "code",
   "execution_count": 8,
   "metadata": {
    "scrolled": true
   },
   "outputs": [
    {
     "name": "stdout",
     "output_type": "stream",
     "text": [
      "+----------+-----+---+\n",
      "|prediction|label| id|\n",
      "+----------+-----+---+\n",
      "|       0.0|  0.0|  0|\n",
      "|       0.0|  0.0|  1|\n",
      "|       0.0|  0.0|  2|\n",
      "|       0.0|  0.0|  3|\n",
      "|       0.0|  0.0|  4|\n",
      "+----------+-----+---+\n",
      "only showing top 5 rows\n",
      "\n"
     ]
    }
   ],
   "source": [
    "predicaoDT = modeloDT.transform(dfTeste)\n",
    "predicaoDT.select(func.col('prediction'), func.col('label'), func.col('id')).show(5)"
   ]
  },
  {
   "cell_type": "code",
   "execution_count": 9,
   "metadata": {},
   "outputs": [
    {
     "data": {
      "text/plain": [
       "0.9381280440070245"
      ]
     },
     "execution_count": 9,
     "metadata": {},
     "output_type": "execute_result"
    }
   ],
   "source": [
    "from pyspark.ml.evaluation import MulticlassClassificationEvaluator\n",
    "\n",
    "MulticlassClassificationEvaluator(labelCol='label', predictionCol='prediction')\\\n",
    "    .evaluate(predicaoDT)"
   ]
  },
  {
   "cell_type": "code",
   "execution_count": 10,
   "metadata": {},
   "outputs": [],
   "source": [
    "#informação 1.B - Random Forest com 5 arvores \n",
    "#                (from pyspark.ml.classification import RandomForestClassifier, e numTrees=5 no construtor \n",
    "#                 do RandomForestClassifier)\n"
   ]
  },
  {
   "cell_type": "code",
   "execution_count": 10,
   "metadata": {},
   "outputs": [],
   "source": [
    "from pyspark.ml.classification import RandomForestClassifier\n",
    "\n",
    "rf = RandomForestClassifier(labelCol=\"label\", featuresCol=\"features\", numTrees=5)"
   ]
  },
  {
   "cell_type": "code",
   "execution_count": 11,
   "metadata": {},
   "outputs": [],
   "source": [
    "modeloRF = rf.fit(dfTreino)"
   ]
  },
  {
   "cell_type": "code",
   "execution_count": 12,
   "metadata": {},
   "outputs": [],
   "source": [
    "predicaoRF = modeloRF.transform(dfTeste)"
   ]
  },
  {
   "cell_type": "code",
   "execution_count": 13,
   "metadata": {},
   "outputs": [
    {
     "name": "stdout",
     "output_type": "stream",
     "text": [
      "+----------+-----+---+\n",
      "|prediction|label| id|\n",
      "+----------+-----+---+\n",
      "|       0.0|  0.0|  0|\n",
      "|       0.0|  0.0|  1|\n",
      "|       0.0|  0.0|  2|\n",
      "|       0.0|  0.0|  3|\n",
      "|       0.0|  0.0|  4|\n",
      "+----------+-----+---+\n",
      "only showing top 5 rows\n",
      "\n"
     ]
    }
   ],
   "source": [
    "predicaoRF.select(func.col('prediction'), func.col('label'), func.col('id')).show(5)"
   ]
  },
  {
   "cell_type": "code",
   "execution_count": 14,
   "metadata": {},
   "outputs": [
    {
     "data": {
      "text/plain": [
       "0.9344879008090252"
      ]
     },
     "execution_count": 14,
     "metadata": {},
     "output_type": "execute_result"
    }
   ],
   "source": [
    "MulticlassClassificationEvaluator(labelCol='label', predictionCol='prediction')\\\n",
    "    .evaluate(predicaoRF)"
   ]
  },
  {
   "cell_type": "code",
   "execution_count": 16,
   "metadata": {},
   "outputs": [],
   "source": [
    "#informação 1.C - Random Forest com 100 arvores (numTrees=100 no construtor do RandomForestClassifier)\n"
   ]
  },
  {
   "cell_type": "code",
   "execution_count": 15,
   "metadata": {},
   "outputs": [],
   "source": [
    "rf2 = RandomForestClassifier(labelCol=\"label\", featuresCol=\"features\", numTrees=100)\n",
    "modeloRF2 = rf2.fit(dfTreino)"
   ]
  },
  {
   "cell_type": "code",
   "execution_count": 16,
   "metadata": {},
   "outputs": [
    {
     "name": "stdout",
     "output_type": "stream",
     "text": [
      "+----------+-----+---+\n",
      "|prediction|label| id|\n",
      "+----------+-----+---+\n",
      "|       0.0|  0.0|  0|\n",
      "|       0.0|  0.0|  1|\n",
      "|       0.0|  0.0|  2|\n",
      "|       0.0|  0.0|  3|\n",
      "|       0.0|  0.0|  4|\n",
      "+----------+-----+---+\n",
      "only showing top 5 rows\n",
      "\n"
     ]
    }
   ],
   "source": [
    "predicaoRF2 = modeloRF2.transform(dfTeste)\n",
    "predicaoRF2.select(func.col('prediction'), func.col('label'), func.col('id')).show(5)"
   ]
  },
  {
   "cell_type": "code",
   "execution_count": 17,
   "metadata": {},
   "outputs": [
    {
     "data": {
      "text/plain": [
       "0.9475615534121986"
      ]
     },
     "execution_count": 17,
     "metadata": {},
     "output_type": "execute_result"
    }
   ],
   "source": [
    "MulticlassClassificationEvaluator(labelCol='label', predictionCol='prediction')\\\n",
    "    .evaluate(predicaoRF2)"
   ]
  },
  {
   "cell_type": "code",
   "execution_count": null,
   "metadata": {},
   "outputs": [],
   "source": [
    "# 2 - Determine qual a quantidade de eventos Alerta (label = 3.0) classificados erroneamente como outra classe \n",
    "#     (falso-negativo) para os classificadores\n",
    "\n",
    "#informação 2.A - Árvore de Decisão (from pyspark.ml.classification import DecisionTreeClassifier)\n"
   ]
  },
  {
   "cell_type": "code",
   "execution_count": 18,
   "metadata": {},
   "outputs": [
    {
     "name": "stdout",
     "output_type": "stream",
     "text": [
      "+-----+--------+\n",
      "|label|  Classe|\n",
      "+-----+--------+\n",
      "|  3.0|  Quente|\n",
      "|  2.0|    Frio|\n",
      "|  0.0|Moderado|\n",
      "|  1.0|  Alerta|\n",
      "+-----+--------+\n",
      "\n"
     ]
    }
   ],
   "source": [
    "predicaoRF.select(func.col('label'), func.col('Classe')).distinct().show(5)"
   ]
  },
  {
   "cell_type": "code",
   "execution_count": 19,
   "metadata": {},
   "outputs": [
    {
     "name": "stdout",
     "output_type": "stream",
     "text": [
      "+----------+-----+\n",
      "|prediction|label|\n",
      "+----------+-----+\n",
      "|       0.0|  0.0|\n",
      "|       0.0|  0.0|\n",
      "|       0.0|  0.0|\n",
      "|       0.0|  0.0|\n",
      "|       0.0|  0.0|\n",
      "+----------+-----+\n",
      "only showing top 5 rows\n",
      "\n"
     ]
    }
   ],
   "source": [
    "from pyspark.sql.types import FloatType\n",
    "from pyspark.mllib.evaluation import MulticlassMetrics\n",
    "\n",
    "# Precisa de cast(FloatType()), e ordenar por previsão. Caso contrário não funciona\n",
    "preds_and_labels = predicaoDT.select(['prediction','label'])\\\n",
    "                    .withColumn('label', func.col('label').cast(FloatType())).orderBy('prediction')\n",
    "\n",
    "preds_and_labels.show(5)"
   ]
  },
  {
   "cell_type": "code",
   "execution_count": 20,
   "metadata": {},
   "outputs": [
    {
     "name": "stdout",
     "output_type": "stream",
     "text": [
      "[[167508.      0.   8325.   3537.]\n",
      " [     0. 157455.      0.   8586.]\n",
      " [  2988.      0. 153414.      0.]\n",
      " [  1665.  10683.      0.  64710.]]\n"
     ]
    }
   ],
   "source": [
    "metrics = MulticlassMetrics(preds_and_labels.rdd.map(tuple))\n",
    "\n",
    "print(metrics.confusionMatrix().toArray())"
   ]
  },
  {
   "cell_type": "code",
   "execution_count": null,
   "metadata": {},
   "outputs": [],
   "source": []
  },
  {
   "cell_type": "code",
   "execution_count": null,
   "metadata": {},
   "outputs": [],
   "source": [
    "################\n",
    "# Segundo modo #\n",
    "################"
   ]
  },
  {
   "cell_type": "code",
   "execution_count": 21,
   "metadata": {},
   "outputs": [
    {
     "data": {
      "text/plain": [
       "0.0517101197896905"
      ]
     },
     "execution_count": 21,
     "metadata": {},
     "output_type": "execute_result"
    }
   ],
   "source": [
    "predicaoDT.filter(func.col('Classe') == 'Alerta')\\\n",
    "    .filter(func.col('prediction') != func.col('label')).count() / predicaoDT.filter(func.col('Classe') == 'Alerta').count()"
   ]
  },
  {
   "cell_type": "code",
   "execution_count": null,
   "metadata": {},
   "outputs": [],
   "source": []
  },
  {
   "cell_type": "code",
   "execution_count": null,
   "metadata": {},
   "outputs": [],
   "source": [
    "#informação 2.B - Random Forest com 5 arvores (from pyspark.ml.classification import RandomForestClassifier, \n",
    "#                 e numTrees=5 no construtor do RandomForestClassifier)\n"
   ]
  },
  {
   "cell_type": "code",
   "execution_count": 22,
   "metadata": {},
   "outputs": [
    {
     "name": "stdout",
     "output_type": "stream",
     "text": [
      "+----------+-----+\n",
      "|prediction|label|\n",
      "+----------+-----+\n",
      "|       0.0|  0.0|\n",
      "|       0.0|  0.0|\n",
      "|       0.0|  0.0|\n",
      "|       0.0|  0.0|\n",
      "|       0.0|  0.0|\n",
      "+----------+-----+\n",
      "only showing top 5 rows\n",
      "\n"
     ]
    }
   ],
   "source": [
    "# Precisa de cast(FloatType()), e ordenar por previsão. Caso contrário não funciona\n",
    "preds_and_labels = predicaoRF.select(['prediction','label'])\\\n",
    "                    .withColumn('label', func.col('label').cast(FloatType())).orderBy('prediction')\n",
    "\n",
    "preds_and_labels.show(5)\n"
   ]
  },
  {
   "cell_type": "code",
   "execution_count": 23,
   "metadata": {},
   "outputs": [
    {
     "name": "stdout",
     "output_type": "stream",
     "text": [
      "[[167931.      0.   8685.   2754.]\n",
      " [     0. 154656.      0.  11385.]\n",
      " [  2556.      0. 153846.      0.]\n",
      " [  1143.  11475.      0.  64440.]]\n"
     ]
    }
   ],
   "source": [
    "metrics = MulticlassMetrics(preds_and_labels.rdd.map(tuple))\n",
    "\n",
    "print(metrics.confusionMatrix().toArray())"
   ]
  },
  {
   "cell_type": "code",
   "execution_count": null,
   "metadata": {},
   "outputs": [],
   "source": []
  },
  {
   "cell_type": "code",
   "execution_count": 24,
   "metadata": {},
   "outputs": [
    {
     "data": {
      "text/plain": [
       "0.06856740202721015"
      ]
     },
     "execution_count": 24,
     "metadata": {},
     "output_type": "execute_result"
    }
   ],
   "source": [
    "################\n",
    "# Segundo modo #\n",
    "################\n",
    "predicaoRF.filter(func.col('Classe') == 'Alerta')\\\n",
    "    .filter(func.col('prediction') != func.col('label')).count() / predicaoRF.filter(func.col('Classe') == 'Alerta').count()"
   ]
  },
  {
   "cell_type": "code",
   "execution_count": null,
   "metadata": {},
   "outputs": [],
   "source": [
    "#informação 2.C - Random Forest com 100 arvores (numTrees=100 no construtor do RandomForestClassifier)\n"
   ]
  },
  {
   "cell_type": "code",
   "execution_count": 25,
   "metadata": {},
   "outputs": [
    {
     "name": "stdout",
     "output_type": "stream",
     "text": [
      "+----------+-----+\n",
      "|prediction|label|\n",
      "+----------+-----+\n",
      "|       0.0|  0.0|\n",
      "|       0.0|  0.0|\n",
      "|       0.0|  0.0|\n",
      "|       0.0|  0.0|\n",
      "|       0.0|  0.0|\n",
      "+----------+-----+\n",
      "only showing top 5 rows\n",
      "\n"
     ]
    }
   ],
   "source": [
    "preds_and_labels = predicaoRF2.select(['prediction','label'])\\\n",
    "                    .withColumn('label', func.col('label').cast(FloatType())).orderBy('prediction')\n",
    "\n",
    "preds_and_labels.show(5)"
   ]
  },
  {
   "cell_type": "code",
   "execution_count": 26,
   "metadata": {},
   "outputs": [
    {
     "name": "stdout",
     "output_type": "stream",
     "text": [
      "[[170433.      0.   6084.   2853.]\n",
      " [     0. 162072.      0.   3969.]\n",
      " [  2619.      0. 153783.      0.]\n",
      " [  1269.  13194.      0.  62595.]]\n"
     ]
    }
   ],
   "source": [
    "metrics = MulticlassMetrics(preds_and_labels.rdd.map(tuple))\n",
    "\n",
    "print(metrics.confusionMatrix().toArray())"
   ]
  },
  {
   "cell_type": "code",
   "execution_count": null,
   "metadata": {},
   "outputs": [],
   "source": []
  },
  {
   "cell_type": "code",
   "execution_count": 27,
   "metadata": {},
   "outputs": [
    {
     "data": {
      "text/plain": [
       "0.023903734619762588"
      ]
     },
     "execution_count": 27,
     "metadata": {},
     "output_type": "execute_result"
    }
   ],
   "source": [
    "################\n",
    "# Segundo modo #\n",
    "################\n",
    "predicaoRF2.filter(func.col('Classe') == 'Alerta')\\\n",
    "    .filter(func.col('prediction') != func.col('label')).count() / predicaoRF2.filter(func.col('Classe') == 'Alerta').count()"
   ]
  },
  {
   "cell_type": "code",
   "execution_count": null,
   "metadata": {},
   "outputs": [],
   "source": [
    "# 3 - Determine qual a quantidade de eventos não Alerta (label = 0.0, ou label = 1.0, ou label = 2.0) \n",
    "#     classificados erroneamente como classe Alerta (falso-positivo) para os classificadores\n",
    "\n",
    "\n",
    "#informação 3.A - Árvore de Decisão (from pyspark.ml.classification import DecisionTreeClassifier)\n"
   ]
  },
  {
   "cell_type": "code",
   "execution_count": 28,
   "metadata": {},
   "outputs": [
    {
     "name": "stdout",
     "output_type": "stream",
     "text": [
      "root\n",
      " |-- hora: double (nullable = true)\n",
      " |-- minuto: double (nullable = true)\n",
      " |-- temp_minima: double (nullable = true)\n",
      " |-- temp_maxima: double (nullable = true)\n",
      " |-- latitude_media: double (nullable = true)\n",
      " |-- longitude_media: double (nullable = true)\n",
      " |-- Classe: string (nullable = true)\n",
      " |-- id: long (nullable = false)\n",
      " |-- label: double (nullable = false)\n",
      " |-- features: vector (nullable = true)\n",
      " |-- rawPrediction: vector (nullable = true)\n",
      " |-- probability: vector (nullable = true)\n",
      " |-- prediction: double (nullable = false)\n",
      "\n"
     ]
    }
   ],
   "source": [
    "predicaoDT.printSchema()"
   ]
  },
  {
   "cell_type": "code",
   "execution_count": 29,
   "metadata": {},
   "outputs": [
    {
     "data": {
      "text/plain": [
       "0.025877479834314366"
      ]
     },
     "execution_count": 29,
     "metadata": {},
     "output_type": "execute_result"
    }
   ],
   "source": [
    "predicaoDT.filter(func.col('Classe') != 'Alerta')\\\n",
    "    .filter(func.col('prediction') == 1).count() / predicaoDT.filter(func.col('Classe') != 'Alerta').count()"
   ]
  },
  {
   "cell_type": "code",
   "execution_count": null,
   "metadata": {},
   "outputs": [],
   "source": []
  },
  {
   "cell_type": "code",
   "execution_count": null,
   "metadata": {},
   "outputs": [],
   "source": [
    "#informação 3.B - Random Forest com 5 arvores (from pyspark.ml.classification import RandomForestClassifier, \n",
    "#                 e numTrees=5 no construtor do RandomForestClassifier)\n"
   ]
  },
  {
   "cell_type": "code",
   "execution_count": 30,
   "metadata": {},
   "outputs": [
    {
     "data": {
      "text/plain": [
       "0.02779594506213211"
      ]
     },
     "execution_count": 30,
     "metadata": {},
     "output_type": "execute_result"
    }
   ],
   "source": [
    "predicaoRF.filter(func.col('Classe') != 'Alerta')\\\n",
    "    .filter(func.col('prediction') == 1).count() / predicaoRF.filter(func.col('Classe') != 'Alerta').count()"
   ]
  },
  {
   "cell_type": "code",
   "execution_count": null,
   "metadata": {},
   "outputs": [],
   "source": []
  },
  {
   "cell_type": "code",
   "execution_count": null,
   "metadata": {},
   "outputs": [],
   "source": [
    "#informação 3.C - Random Forest com 100 arvores (numTrees=100 no construtor do RandomForestClassifier)\n"
   ]
  },
  {
   "cell_type": "code",
   "execution_count": 31,
   "metadata": {},
   "outputs": [
    {
     "data": {
      "text/plain": [
       "0.03195988663614563"
      ]
     },
     "execution_count": 31,
     "metadata": {},
     "output_type": "execute_result"
    }
   ],
   "source": [
    "predicaoRF2.filter(func.col('Classe') != 'Alerta')\\\n",
    "    .filter(func.col('prediction') == 1).count() / predicaoRF2.filter(func.col('Classe') != 'Alerta').count()"
   ]
  },
  {
   "cell_type": "code",
   "execution_count": null,
   "metadata": {},
   "outputs": [],
   "source": []
  },
  {
   "cell_type": "code",
   "execution_count": 32,
   "metadata": {},
   "outputs": [],
   "source": [
    "#informação 4 - Faça votação entre os classificadores da etapa 1.A, 1.B e 1.C para atribuir a classe do evento de \n",
    "#               acordo com a maioria das classes entre os classificadores\n",
    "\n",
    "import pyspark.sql.functions as func\n"
   ]
  },
  {
   "cell_type": "code",
   "execution_count": 33,
   "metadata": {},
   "outputs": [
    {
     "name": "stdout",
     "output_type": "stream",
     "text": [
      "Tamanho predicaoDT: 578871\n",
      "Tamanho predicaoRF: 578871\n",
      "Tamanho predicaoRF2: 578871\n"
     ]
    }
   ],
   "source": [
    "print(f'Tamanho predicaoDT:', predicaoDT.count())\n",
    "print(f'Tamanho predicaoRF:', predicaoRF.count())\n",
    "print(f'Tamanho predicaoRF2:', predicaoRF2.count())"
   ]
  },
  {
   "cell_type": "code",
   "execution_count": 34,
   "metadata": {},
   "outputs": [
    {
     "data": {
      "text/plain": [
       "578871"
      ]
     },
     "execution_count": 34,
     "metadata": {},
     "output_type": "execute_result"
    }
   ],
   "source": [
    "predicaoDT.select(func.col('prediction').alias('prediction_dt'),\n",
    "                  func.col('label'),\n",
    "                  func.col('id'))\\\n",
    ".join(predicaoRF.select(func.col('prediction').alias('prediction_rf'),\n",
    "                  func.col('id')), ['id'])\\\n",
    ".join(predicaoRF2.select(func.col('prediction').alias('prediction_rf2'),\n",
    "                  func.col('id')), ['id']).count()"
   ]
  },
  {
   "cell_type": "code",
   "execution_count": 35,
   "metadata": {},
   "outputs": [],
   "source": [
    "df = predicaoDT.select(func.col('prediction').alias('prediction_dt'),\n",
    "                  func.col('label'),\n",
    "                  func.col('id'))\\\n",
    ".join(predicaoRF.select(func.col('prediction').alias('prediction_rf'),\n",
    "                  func.col('id')), ['id'])\\\n",
    ".join(predicaoRF2.select(func.col('prediction').alias('prediction_rf2'),\n",
    "                  func.col('id')), ['id'])"
   ]
  },
  {
   "cell_type": "code",
   "execution_count": 36,
   "metadata": {},
   "outputs": [
    {
     "name": "stdout",
     "output_type": "stream",
     "text": [
      "+----+-------------+-----+-------------+--------------+\n",
      "|  id|prediction_dt|label|prediction_rf|prediction_rf2|\n",
      "+----+-------------+-----+-------------+--------------+\n",
      "|  26|          0.0|  0.0|          0.0|           0.0|\n",
      "|  29|          1.0|  1.0|          1.0|           1.0|\n",
      "| 474|          1.0|  1.0|          1.0|           1.0|\n",
      "| 964|          2.0|  0.0|          2.0|           2.0|\n",
      "|1677|          0.0|  0.0|          0.0|           0.0|\n",
      "+----+-------------+-----+-------------+--------------+\n",
      "only showing top 5 rows\n",
      "\n"
     ]
    }
   ],
   "source": [
    "df.show(5)"
   ]
  },
  {
   "cell_type": "code",
   "execution_count": 37,
   "metadata": {},
   "outputs": [],
   "source": [
    "from statistics import mode\n",
    "from pyspark.sql.functions import udf, array\n",
    "from pyspark.sql.types import DoubleType\n"
   ]
  },
  {
   "cell_type": "code",
   "execution_count": 38,
   "metadata": {},
   "outputs": [],
   "source": [
    "def retornaMaior(x, y, z):\n",
    "    lista = [x, y, z]\n",
    "    try:\n",
    "        return mode(lista)\n",
    "    except:\n",
    "        return z\n",
    "\n",
    "udfModa = udf(lambda x, y, z: retornaMaior(x, y, z), DoubleType())"
   ]
  },
  {
   "cell_type": "code",
   "execution_count": 39,
   "metadata": {},
   "outputs": [
    {
     "name": "stdout",
     "output_type": "stream",
     "text": [
      "+----+-------------+-----+-------------+--------------+-----------+\n",
      "|  id|prediction_dt|label|prediction_rf|prediction_rf2|lista_preds|\n",
      "+----+-------------+-----+-------------+--------------+-----------+\n",
      "|  26|          0.0|  0.0|          0.0|           0.0|        0.0|\n",
      "|  29|          1.0|  1.0|          1.0|           1.0|        1.0|\n",
      "| 474|          1.0|  1.0|          1.0|           1.0|        1.0|\n",
      "| 964|          2.0|  0.0|          2.0|           2.0|        2.0|\n",
      "|1677|          0.0|  0.0|          0.0|           0.0|        0.0|\n",
      "+----+-------------+-----+-------------+--------------+-----------+\n",
      "only showing top 5 rows\n",
      "\n"
     ]
    }
   ],
   "source": [
    "udfVota = udf(lambda x: mode(x))\n",
    "\n",
    "listaPreds = df.withColumn('lista_preds', udfModa(func.col('prediction_dt'), \n",
    "                                                  func.col('prediction_rf'), \n",
    "                                                  func.col('prediction_rf2')))\n",
    "\n",
    "listaPreds.show(5)\n"
   ]
  },
  {
   "cell_type": "code",
   "execution_count": null,
   "metadata": {},
   "outputs": [],
   "source": []
  },
  {
   "cell_type": "code",
   "execution_count": 87,
   "metadata": {},
   "outputs": [],
   "source": [
    "#5 - Considerando que voce possui apenas duas classes: Não Alerta e Alerta. Calcule a acurácia de classificação \n",
    "#    na base de testes para os seguintes classificadores:\n",
    "\n",
    "#informação 5.A - Árvore de Decisão (from pyspark.ml.classification import DecisionTreeClassifier)\n",
    "from pyspark.sql.types import StringType\n",
    "dfTeste5 = dfTeste"
   ]
  },
  {
   "cell_type": "code",
   "execution_count": 88,
   "metadata": {},
   "outputs": [
    {
     "name": "stdout",
     "output_type": "stream",
     "text": [
      "+---------+---------+-----------+-----------+--------------+---------------+--------+---+-----+--------------------+\n",
      "|     hora|   minuto|temp_minima|temp_maxima|latitude_media|longitude_media|  Classe| id|label|            features|\n",
      "+---------+---------+-----------+-----------+--------------+---------------+--------+---+-----+--------------------+\n",
      "|11.787212|29.005116|      1.123|     28.606|      34.56035|      136.21983|Moderado|  0|  0.0|[11.787212,29.005...|\n",
      "|11.482636| 29.84576|      1.038|  29.306004|      34.56078|      136.22015|Moderado|  1|  0.0|[11.482636,29.845...|\n",
      "|11.312064|29.751745|      1.123|  29.006002|      34.55864|      136.22047|Moderado|  2|  0.0|[11.312064,29.751...|\n",
      "|11.530982|29.505793|      1.404|  29.081003|     34.560654|      136.22006|Moderado|  3|  0.0|[11.530982,29.505...|\n",
      "|  11.4008|29.422289|      1.504|  29.181004|     34.559814|      136.22006|Moderado|  4|  0.0|[11.4008,29.42228...|\n",
      "+---------+---------+-----------+-----------+--------------+---------------+--------+---+-----+--------------------+\n",
      "only showing top 5 rows\n",
      "\n"
     ]
    }
   ],
   "source": [
    "dfTeste5.show(5)"
   ]
  },
  {
   "cell_type": "code",
   "execution_count": 89,
   "metadata": {},
   "outputs": [],
   "source": [
    "def mudaLabel(x):\n",
    "    try:\n",
    "        if x == 1.0:\n",
    "            return x\n",
    "        else:\n",
    "            return 0.0\n",
    "    except:\n",
    "        pass\n",
    "\n",
    "    \n",
    "udfMudaLabel = udf(lambda x: mudaLabel(x), DoubleType())"
   ]
  },
  {
   "cell_type": "code",
   "execution_count": 90,
   "metadata": {},
   "outputs": [],
   "source": [
    "dfTeste5 = dfTeste5.withColumn('label', udfMudaLabel(func.col('label')))"
   ]
  },
  {
   "cell_type": "code",
   "execution_count": 91,
   "metadata": {},
   "outputs": [
    {
     "name": "stdout",
     "output_type": "stream",
     "text": [
      "+---------+---------+-----------+-----------+--------------+---------------+--------+---+-----+--------------------+\n",
      "|     hora|   minuto|temp_minima|temp_maxima|latitude_media|longitude_media|  Classe| id|label|            features|\n",
      "+---------+---------+-----------+-----------+--------------+---------------+--------+---+-----+--------------------+\n",
      "|11.787212|29.005116|      1.123|     28.606|      34.56035|      136.21983|Moderado|  0|  0.0|[11.787212,29.005...|\n",
      "|11.482636| 29.84576|      1.038|  29.306004|      34.56078|      136.22015|Moderado|  1|  0.0|[11.482636,29.845...|\n",
      "|11.312064|29.751745|      1.123|  29.006002|      34.55864|      136.22047|Moderado|  2|  0.0|[11.312064,29.751...|\n",
      "|11.530982|29.505793|      1.404|  29.081003|     34.560654|      136.22006|Moderado|  3|  0.0|[11.530982,29.505...|\n",
      "|  11.4008|29.422289|      1.504|  29.181004|     34.559814|      136.22006|Moderado|  4|  0.0|[11.4008,29.42228...|\n",
      "| 11.50784| 29.18513|      1.423|  29.106003|     34.559834|      136.21964|Moderado|  5|  0.0|[11.50784,29.1851...|\n",
      "|11.318713|29.743177|      1.323|  28.806002|     34.560326|       136.2207|Moderado|  6|  0.0|[11.318713,29.743...|\n",
      "|11.324524| 30.05444|      1.155|  29.006002|     34.560883|      136.21967|Moderado|  7|  0.0|[11.324524,30.054...|\n",
      "|11.563602| 29.70224|     -0.042|  27.170006|     28.131119|     106.361595|Moderado|  8|  0.0|[11.563602,29.702...|\n",
      "|11.512673|30.439503|      0.058|  26.470003|     28.129293|      106.35922|Moderado|  9|  0.0|[11.512673,30.439...|\n",
      "|11.662633| 29.32575|      0.258|  27.270006|     28.130125|      106.35999|Moderado| 10|  0.0|[11.662633,29.325...|\n",
      "|11.465534|28.917961|      0.158|  27.058002|     28.129803|      106.35961|Moderado| 11|  0.0|[11.465534,28.917...|\n",
      "|11.511455|29.308268|     -0.042|     26.558|     28.129965|      106.36065|Moderado| 12|  0.0|[11.511455,29.308...|\n",
      "|11.458397|29.353241|      0.058|      26.33|      28.12944|      106.35887|Moderado| 13|  0.0|[11.458397,29.353...|\n",
      "|11.200801|29.746119|      0.754|  28.058006|     28.130419|      106.35988|Moderado| 14|  0.0|[11.200801,29.746...|\n",
      "| 11.46211|29.575533|      0.592|     26.658|     28.130363|      106.36075|Moderado| 15|  0.0|[11.46211,29.5755...|\n",
      "|11.418279|29.644585|     -0.142|  27.958006|     28.129705|      106.35884|Moderado| 16|  0.0|[11.418279,29.644...|\n",
      "|11.496075|29.468105|      0.058|  26.958002|     28.129751|      106.36014|Moderado| 17|  0.0|[11.496075,29.468...|\n",
      "|11.367968|29.559048|     -0.042|     26.405|     28.130207|      106.36162|Moderado| 18|  0.0|[11.367968,29.559...|\n",
      "|11.400568|29.441761|      0.954|  26.661005|     28.128805|      106.36073|Moderado| 19|  0.0|[11.400568,29.441...|\n",
      "|11.333493|28.748081|      0.392|  27.158003|      28.13043|     106.361755|Moderado| 20|  0.0|[11.333493,28.748...|\n",
      "|11.288729|29.360191|      0.854|  27.858006|      28.13122|      106.36072|Moderado| 21|  0.0|[11.288729,29.360...|\n",
      "| 11.58427|29.484612|      0.158|  27.058002|     28.129906|      106.36081|Moderado| 22|  0.0|[11.58427,29.4846...|\n",
      "|11.026908|28.452055|      0.292|  26.858002|     28.129892|     106.359795|Moderado| 23|  0.0|[11.026908,28.452...|\n",
      "|11.830161|30.098585|      0.756|  26.570004|      28.13036|      106.36039|Moderado| 24|  0.0|[11.830161,30.098...|\n",
      "|11.720544|29.646023|      0.158|  26.858002|     28.129366|       106.3618|Moderado| 25|  0.0|[11.720544,29.646...|\n",
      "|11.640209|29.405418|      0.058|     26.658|     28.129332|      106.36037|Moderado| 26|  0.0|[11.640209,29.405...|\n",
      "|11.530965|29.631472|      0.854|  26.858002|     28.132343|     106.361206|Moderado| 27|  0.0|[11.530965,29.631...|\n",
      "|11.257852|29.419834|  12.736998|  36.494995|     24.920084|       79.80002|  Alerta| 28|  1.0|[11.257852,29.419...|\n",
      "| 11.48274| 29.27666|  21.838995|  30.512005|      15.26802|      120.83033|  Alerta| 29|  1.0|[11.48274,29.2766...|\n",
      "|11.631514|29.235931|     13.355|  36.916992|     24.919302|        79.7996|  Alerta| 30|  1.0|[11.631514,29.235...|\n",
      "|11.613255|29.760633|  22.575996|  30.401001|     15.269202|      120.83107|  Alerta| 31|  1.0|[11.613255,29.760...|\n",
      "|11.675102|29.363266|  12.836998|  36.774986|     24.919325|       79.80012|  Alerta| 32|  1.0|[11.675102,29.363...|\n",
      "|11.631688|30.308052|  22.750998|  30.376001|     15.267764|      120.82826|  Alerta| 33|  1.0|[11.631688,30.308...|\n",
      "|11.564752|29.682247|  13.215998|  36.916992|     24.919382|       79.79987|  Alerta| 34|  1.0|[11.564752,29.682...|\n",
      "|11.622233|29.177046|  22.916998|  30.501001|     15.269479|      120.82931|  Alerta| 35|  1.0|[11.622233,29.177...|\n",
      "|11.443732|29.498198|  12.836998|   37.01699|      24.91928|       79.80082|  Alerta| 36|  1.0|[11.443732,29.498...|\n",
      "|11.869231|29.198975|  22.238997|  30.501001|     15.269547|      120.83062|  Alerta| 37|  1.0|[11.869231,29.198...|\n",
      "|11.602235|29.298014|  13.115997|  36.543995|     24.920128|      79.801476|  Alerta| 38|  1.0|[11.602235,29.298...|\n",
      "|11.380605|29.691345|  22.550995|  30.601002|     15.269968|      120.83077|  Alerta| 39|  1.0|[11.380605,29.691...|\n",
      "|11.391702|30.079668|  12.736998|     36.417|     24.917381|       79.79974|  Quente| 40|  0.0|[11.391702,30.079...|\n",
      "|11.489745| 29.25813|     22.525|  30.647001|     15.267928|      120.82981|  Alerta| 41|  1.0|[11.489745,29.258...|\n",
      "|11.541375| 30.02429|  13.215998|  36.874985|     24.919502|       79.79928|  Alerta| 42|  1.0|[11.541375,30.024...|\n",
      "|11.510363|29.307255|  23.016998|  30.776003|      15.26765|      120.83039|  Alerta| 43|  1.0|[11.510363,29.307...|\n",
      "|11.484099|28.843513|  22.528997|     30.247|     15.267774|     120.829445|  Alerta| 44|  1.0|[11.484099,28.843...|\n",
      "|11.605491|29.316727|  22.838999|     30.011|     15.268556|       120.8291|  Alerta| 45|  1.0|[11.605491,29.316...|\n",
      "|11.623494|29.716366|  22.338997|  30.501001|     15.267943|      120.83037|  Alerta| 46|  1.0|[11.623494,29.716...|\n",
      "|11.592303|30.350494|  22.138996|     30.447|     15.268347|      120.82926|  Alerta| 47|  1.0|[11.592303,30.350...|\n",
      "|11.276243|29.965343|  22.428997|  30.647001|     15.269451|     120.829506|  Alerta| 48|  1.0|[11.276243,29.965...|\n",
      "| 11.49974| 29.72127|  21.938995|  30.220001|     15.268747|      120.82961|  Alerta| 49|  1.0|[11.49974,29.7212...|\n",
      "+---------+---------+-----------+-----------+--------------+---------------+--------+---+-----+--------------------+\n",
      "only showing top 50 rows\n",
      "\n"
     ]
    }
   ],
   "source": [
    "dfTeste5.show(50)"
   ]
  },
  {
   "cell_type": "code",
   "execution_count": 92,
   "metadata": {},
   "outputs": [],
   "source": [
    "dfTreino5 = dfTreino"
   ]
  },
  {
   "cell_type": "code",
   "execution_count": 95,
   "metadata": {},
   "outputs": [],
   "source": [
    "dfTreino5 = dfTreino5.withColumn('label', udfMudaLabel(func.col('label')))"
   ]
  },
  {
   "cell_type": "code",
   "execution_count": 96,
   "metadata": {},
   "outputs": [],
   "source": [
    "dt5 = DecisionTreeClassifier(labelCol='label', featuresCol='features')\n",
    "modeloDT5 = dt.fit(dfTreino5)"
   ]
  },
  {
   "cell_type": "code",
   "execution_count": 97,
   "metadata": {},
   "outputs": [
    {
     "name": "stdout",
     "output_type": "stream",
     "text": [
      "+----------+-----+---+\n",
      "|prediction|label| id|\n",
      "+----------+-----+---+\n",
      "|       0.0|  0.0|  0|\n",
      "|       0.0|  0.0|  1|\n",
      "|       0.0|  0.0|  2|\n",
      "|       0.0|  0.0|  3|\n",
      "|       0.0|  0.0|  4|\n",
      "+----------+-----+---+\n",
      "only showing top 5 rows\n",
      "\n"
     ]
    }
   ],
   "source": [
    "predicaoDT5 = modeloDT5.transform(dfTeste5)\n",
    "predicaoDT5.select(func.col('prediction'), func.col('label'), func.col('id')).show(5)"
   ]
  },
  {
   "cell_type": "code",
   "execution_count": 100,
   "metadata": {},
   "outputs": [
    {
     "data": {
      "text/plain": [
       "0.9687772256172641"
      ]
     },
     "execution_count": 100,
     "metadata": {},
     "output_type": "execute_result"
    }
   ],
   "source": [
    "MulticlassClassificationEvaluator(labelCol='label', predictionCol='prediction')\\\n",
    "    .evaluate(predicaoDT5)"
   ]
  },
  {
   "cell_type": "code",
   "execution_count": null,
   "metadata": {},
   "outputs": [],
   "source": []
  },
  {
   "cell_type": "code",
   "execution_count": null,
   "metadata": {},
   "outputs": [],
   "source": []
  },
  {
   "cell_type": "code",
   "execution_count": null,
   "metadata": {},
   "outputs": [],
   "source": [
    "#informação 5.B - Random Forest com 20 arvores (from pyspark.ml.classification import RandomForestClassifier, \n",
    "#                 e numTrees=20 no construtor do RandomForestClassifier)\n",
    "    \n"
   ]
  },
  {
   "cell_type": "code",
   "execution_count": 105,
   "metadata": {},
   "outputs": [],
   "source": [
    "rf5 = RandomForestClassifier(labelCol=\"label\", featuresCol=\"features\", numTrees=20)\n",
    "\n"
   ]
  },
  {
   "cell_type": "code",
   "execution_count": 106,
   "metadata": {},
   "outputs": [],
   "source": [
    "modeloRF5 = rf.fit(dfTreino5)\n",
    "\n"
   ]
  },
  {
   "cell_type": "code",
   "execution_count": 107,
   "metadata": {},
   "outputs": [],
   "source": [
    "predicaoRF5 = modeloRF5.transform(dfTeste5)\n",
    "\n"
   ]
  },
  {
   "cell_type": "code",
   "execution_count": 108,
   "metadata": {},
   "outputs": [
    {
     "name": "stdout",
     "output_type": "stream",
     "text": [
      "+----------+-----+---+\n",
      "|prediction|label| id|\n",
      "+----------+-----+---+\n",
      "|       0.0|  0.0|  0|\n",
      "|       0.0|  0.0|  1|\n",
      "|       0.0|  0.0|  2|\n",
      "|       0.0|  0.0|  3|\n",
      "|       0.0|  0.0|  4|\n",
      "+----------+-----+---+\n",
      "only showing top 5 rows\n",
      "\n"
     ]
    }
   ],
   "source": [
    "predicaoRF5.select(func.col('prediction'), func.col('label'), func.col('id')).show(5)\n",
    "\n"
   ]
  },
  {
   "cell_type": "code",
   "execution_count": 109,
   "metadata": {},
   "outputs": [
    {
     "data": {
      "text/plain": [
       "0.967854887708866"
      ]
     },
     "execution_count": 109,
     "metadata": {},
     "output_type": "execute_result"
    }
   ],
   "source": [
    "MulticlassClassificationEvaluator(labelCol='label', predictionCol='prediction')\\\n",
    "    .evaluate(predicaoRF5)"
   ]
  },
  {
   "cell_type": "code",
   "execution_count": null,
   "metadata": {},
   "outputs": [],
   "source": []
  },
  {
   "cell_type": "code",
   "execution_count": null,
   "metadata": {},
   "outputs": [],
   "source": [
    "#informação 5.C - Random Forest com 100 arvores (numTrees=100 no construtor do RandomForestClassifier)\n",
    "# Dicas: Para isto, você irá precisar manipular o dataframe para alterar os valores da coluna label, por exemplo\n",
    "# através de uma UDF\n",
    "\n",
    "\n"
   ]
  },
  {
   "cell_type": "code",
   "execution_count": 110,
   "metadata": {},
   "outputs": [],
   "source": [
    "rf5100 = RandomForestClassifier(labelCol=\"label\", featuresCol=\"features\", numTrees=100)\n"
   ]
  },
  {
   "cell_type": "code",
   "execution_count": 111,
   "metadata": {},
   "outputs": [],
   "source": [
    "modeloRF5100 = rf.fit(dfTreino5)"
   ]
  },
  {
   "cell_type": "code",
   "execution_count": 112,
   "metadata": {},
   "outputs": [],
   "source": [
    "predicaoRF5100 = modeloRF5100.transform(dfTeste5)"
   ]
  },
  {
   "cell_type": "code",
   "execution_count": 113,
   "metadata": {},
   "outputs": [
    {
     "name": "stdout",
     "output_type": "stream",
     "text": [
      "+----------+-----+---+\n",
      "|prediction|label| id|\n",
      "+----------+-----+---+\n",
      "|       0.0|  0.0|  0|\n",
      "|       0.0|  0.0|  1|\n",
      "|       0.0|  0.0|  2|\n",
      "|       0.0|  0.0|  3|\n",
      "|       0.0|  0.0|  4|\n",
      "+----------+-----+---+\n",
      "only showing top 5 rows\n",
      "\n"
     ]
    }
   ],
   "source": [
    "predicaoRF5100.select(func.col('prediction'), func.col('label'), func.col('id')).show(5)"
   ]
  },
  {
   "cell_type": "code",
   "execution_count": 114,
   "metadata": {},
   "outputs": [
    {
     "data": {
      "text/plain": [
       "0.967854887708866"
      ]
     },
     "execution_count": 114,
     "metadata": {},
     "output_type": "execute_result"
    }
   ],
   "source": [
    "MulticlassClassificationEvaluator(labelCol='label', predictionCol='prediction')\\\n",
    "    .evaluate(predicaoRF5100)"
   ]
  },
  {
   "cell_type": "code",
   "execution_count": null,
   "metadata": {},
   "outputs": [],
   "source": []
  },
  {
   "cell_type": "code",
   "execution_count": null,
   "metadata": {},
   "outputs": [],
   "source": [
    "#informação 6 - Determine qual a quantidade de eventos Alerta (label = 3.0) classificados erroneamente como outra\n",
    "# classe (falso-negativo) para os classificadores do item 5\n"
   ]
  },
  {
   "cell_type": "code",
   "execution_count": 115,
   "metadata": {},
   "outputs": [
    {
     "name": "stdout",
     "output_type": "stream",
     "text": [
      "+----------+-----+\n",
      "|prediction|label|\n",
      "+----------+-----+\n",
      "|       0.0|  0.0|\n",
      "|       0.0|  0.0|\n",
      "|       0.0|  0.0|\n",
      "|       0.0|  0.0|\n",
      "|       0.0|  0.0|\n",
      "+----------+-----+\n",
      "only showing top 5 rows\n",
      "\n"
     ]
    }
   ],
   "source": [
    "preds_and_labels = predicaoDT5.select(['prediction','label'])\\\n",
    "                    .withColumn('label', func.col('label').cast(FloatType())).orderBy('prediction')\n",
    "\n",
    "preds_and_labels.show(5)"
   ]
  },
  {
   "cell_type": "code",
   "execution_count": 116,
   "metadata": {},
   "outputs": [
    {
     "name": "stdout",
     "output_type": "stream",
     "text": [
      "[[395964.  16866.]\n",
      " [  1440. 164601.]]\n"
     ]
    }
   ],
   "source": [
    "metrics = MulticlassMetrics(preds_and_labels.rdd.map(tuple))\n",
    "\n",
    "print(metrics.confusionMatrix().toArray())"
   ]
  },
  {
   "cell_type": "code",
   "execution_count": 121,
   "metadata": {},
   "outputs": [
    {
     "data": {
      "text/plain": [
       "0.008672556778145157"
      ]
     },
     "execution_count": 121,
     "metadata": {},
     "output_type": "execute_result"
    }
   ],
   "source": [
    "################\n",
    "# Segundo modo #\n",
    "################\n",
    "predicaoDT5.filter(func.col('Classe') == 'Alerta')\\\n",
    "    .filter(func.col('prediction') != func.col('label')).count() / predicaoDT5.filter(func.col('Classe') == 'Alerta').count()"
   ]
  },
  {
   "cell_type": "code",
   "execution_count": 117,
   "metadata": {},
   "outputs": [
    {
     "name": "stdout",
     "output_type": "stream",
     "text": [
      "+----------+-----+\n",
      "|prediction|label|\n",
      "+----------+-----+\n",
      "|       0.0|  0.0|\n",
      "|       0.0|  0.0|\n",
      "|       0.0|  0.0|\n",
      "|       0.0|  0.0|\n",
      "|       0.0|  0.0|\n",
      "+----------+-----+\n",
      "only showing top 5 rows\n",
      "\n"
     ]
    }
   ],
   "source": [
    "preds_and_labels = predicaoRF5.select(['prediction','label'])\\\n",
    "                    .withColumn('label', func.col('label').cast(FloatType())).orderBy('prediction')\n",
    "\n",
    "preds_and_labels.show(5)"
   ]
  },
  {
   "cell_type": "code",
   "execution_count": 118,
   "metadata": {},
   "outputs": [
    {
     "name": "stdout",
     "output_type": "stream",
     "text": [
      "[[395721.  17109.]\n",
      " [  1737. 164304.]]\n"
     ]
    }
   ],
   "source": [
    "metrics = MulticlassMetrics(preds_and_labels.rdd.map(tuple))\n",
    "\n",
    "print(metrics.confusionMatrix().toArray())"
   ]
  },
  {
   "cell_type": "code",
   "execution_count": 122,
   "metadata": {},
   "outputs": [
    {
     "data": {
      "text/plain": [
       "0.010461271613637595"
      ]
     },
     "execution_count": 122,
     "metadata": {},
     "output_type": "execute_result"
    }
   ],
   "source": [
    "################\n",
    "# Segundo modo #\n",
    "################\n",
    "predicaoRF5.filter(func.col('Classe') == 'Alerta')\\\n",
    "    .filter(func.col('prediction') != func.col('label')).count() / predicaoRF5.filter(func.col('Classe') == 'Alerta').count()"
   ]
  },
  {
   "cell_type": "code",
   "execution_count": 119,
   "metadata": {},
   "outputs": [
    {
     "name": "stdout",
     "output_type": "stream",
     "text": [
      "+----------+-----+\n",
      "|prediction|label|\n",
      "+----------+-----+\n",
      "|       0.0|  0.0|\n",
      "|       0.0|  0.0|\n",
      "|       0.0|  0.0|\n",
      "|       0.0|  0.0|\n",
      "|       0.0|  0.0|\n",
      "+----------+-----+\n",
      "only showing top 5 rows\n",
      "\n"
     ]
    }
   ],
   "source": [
    "preds_and_labels = predicaoRF5100.select(['prediction','label'])\\\n",
    "                    .withColumn('label', func.col('label').cast(FloatType())).orderBy('prediction')\n",
    "\n",
    "preds_and_labels.show(5)"
   ]
  },
  {
   "cell_type": "code",
   "execution_count": 120,
   "metadata": {},
   "outputs": [
    {
     "name": "stdout",
     "output_type": "stream",
     "text": [
      "[[395721.  17109.]\n",
      " [  1737. 164304.]]\n"
     ]
    }
   ],
   "source": [
    "metrics = MulticlassMetrics(preds_and_labels.rdd.map(tuple))\n",
    "\n",
    "print(metrics.confusionMatrix().toArray())"
   ]
  },
  {
   "cell_type": "code",
   "execution_count": 123,
   "metadata": {},
   "outputs": [
    {
     "data": {
      "text/plain": [
       "0.010461271613637595"
      ]
     },
     "execution_count": 123,
     "metadata": {},
     "output_type": "execute_result"
    }
   ],
   "source": [
    "################\n",
    "# Segundo modo #\n",
    "################\n",
    "predicaoRF5100.filter(func.col('Classe') == 'Alerta')\\\n",
    "    .filter(func.col('prediction') != func.col('label')).count() / predicaoRF5100.filter(func.col('Classe') == 'Alerta').count()"
   ]
  },
  {
   "cell_type": "code",
   "execution_count": null,
   "metadata": {},
   "outputs": [],
   "source": [
    "#Faça busca de parametros dos classificadores desenvolvidos no item 5. Plote um gráfico relacionando a \n",
    "#acurácia e os parametros otimizados\n",
    "#informação 7.A - Árvore de Decisão varie o parametro maxDepth de 1 a 20\n"
   ]
  },
  {
   "cell_type": "code",
   "execution_count": 159,
   "metadata": {},
   "outputs": [],
   "source": [
    "scores = []"
   ]
  },
  {
   "cell_type": "code",
   "execution_count": 160,
   "metadata": {},
   "outputs": [
    {
     "name": "stdout",
     "output_type": "stream",
     "text": [
      "DecisionTreeClassificationModel (uid=DecisionTreeClassifier_660e2a982193) of depth 1 with 3 nodes\n",
      "DecisionTreeClassificationModel (uid=DecisionTreeClassifier_53257aaa6486) of depth 2 with 7 nodes\n",
      "DecisionTreeClassificationModel (uid=DecisionTreeClassifier_652470632520) of depth 3 with 11 nodes\n",
      "DecisionTreeClassificationModel (uid=DecisionTreeClassifier_9ac62dc11cc7) of depth 4 with 23 nodes\n",
      "DecisionTreeClassificationModel (uid=DecisionTreeClassifier_46cafbc081e8) of depth 5 with 31 nodes\n",
      "DecisionTreeClassificationModel (uid=DecisionTreeClassifier_d31a24ecc0e5) of depth 6 with 63 nodes\n",
      "DecisionTreeClassificationModel (uid=DecisionTreeClassifier_550c43281a73) of depth 7 with 97 nodes\n",
      "DecisionTreeClassificationModel (uid=DecisionTreeClassifier_3b1c4fa096d2) of depth 8 with 145 nodes\n",
      "DecisionTreeClassificationModel (uid=DecisionTreeClassifier_f9df6f90b978) of depth 9 with 245 nodes\n",
      "DecisionTreeClassificationModel (uid=DecisionTreeClassifier_b711df54e100) of depth 10 with 307 nodes\n",
      "DecisionTreeClassificationModel (uid=DecisionTreeClassifier_a6c21056a2da) of depth 11 with 421 nodes\n",
      "DecisionTreeClassificationModel (uid=DecisionTreeClassifier_f9cf0ce6806e) of depth 12 with 563 nodes\n",
      "DecisionTreeClassificationModel (uid=DecisionTreeClassifier_c7987715c1e6) of depth 13 with 723 nodes\n",
      "DecisionTreeClassificationModel (uid=DecisionTreeClassifier_5def1c925e01) of depth 14 with 881 nodes\n",
      "DecisionTreeClassificationModel (uid=DecisionTreeClassifier_40bf632f4cd3) of depth 15 with 1037 nodes\n",
      "DecisionTreeClassificationModel (uid=DecisionTreeClassifier_726823ee506d) of depth 16 with 1171 nodes\n",
      "DecisionTreeClassificationModel (uid=DecisionTreeClassifier_71350a247fd0) of depth 17 with 1295 nodes\n",
      "DecisionTreeClassificationModel (uid=DecisionTreeClassifier_9de4d9a8dbcd) of depth 18 with 1383 nodes\n",
      "DecisionTreeClassificationModel (uid=DecisionTreeClassifier_51fd835189bf) of depth 19 with 1451 nodes\n",
      "DecisionTreeClassificationModel (uid=DecisionTreeClassifier_bf9d4e557cf4) of depth 20 with 1479 nodes\n"
     ]
    }
   ],
   "source": [
    "for i in range(1, 21):\n",
    "    dt7 = DecisionTreeClassifier(labelCol='label', featuresCol='features', maxDepth=i)\n",
    "    modeloDT7 = dt7.fit(dfTreino5)\n",
    "    print(modeloDT7)\n",
    "    predict = modeloDT7.transform(dfTeste5)\n",
    "    scores.append(MulticlassClassificationEvaluator(labelCol='label', predictionCol='prediction')\\\n",
    "        .evaluate(predict))"
   ]
  },
  {
   "cell_type": "code",
   "execution_count": 161,
   "metadata": {},
   "outputs": [
    {
     "name": "stdout",
     "output_type": "stream",
     "text": [
      "[0.931824021241347, 0.9421565448575537, 0.9448972528461714, 0.9619368309301344, 0.9687772256172641, 0.977220077171886, 0.9774981976035102, 0.9826598313262809, 0.9839005463703259, 0.9842370490567578, 0.9866071295270119, 0.9868043295336977, 0.9861691597318394, 0.9858732164058155, 0.9861859575259742, 0.9862916055026221, 0.9864619906161198, 0.9865233516403251, 0.9865229100139867, 0.9866635184173203]\n"
     ]
    }
   ],
   "source": [
    "print(scores)"
   ]
  },
  {
   "cell_type": "code",
   "execution_count": 162,
   "metadata": {},
   "outputs": [],
   "source": [
    "import matplotlib.pyplot as plt"
   ]
  },
  {
   "cell_type": "code",
   "execution_count": 164,
   "metadata": {},
   "outputs": [
    {
     "data": {
      "image/png": "[encoded data removed]",
      "text/plain": [
       "<Figure size 1584x720 with 1 Axes>"
      ]
     },
     "metadata": {
      "needs_background": "light"
     },
     "output_type": "display_data"
    }
   ],
   "source": [
    "fig = plt.figure(figsize=(22,10))\n",
    "plt.title('Decision Tree')\n",
    "plt.xlabel('MaxDepth')\n",
    "plt.ylabel('Acuracia')\n",
    "plt.plot(range(1,21),scores)\n",
    "plt.show()"
   ]
  },
  {
   "cell_type": "code",
   "execution_count": null,
   "metadata": {
    "scrolled": true
   },
   "outputs": [],
   "source": [
    "#informação 7.B - Random Forest varie o numTrees de 1 a 20\n"
   ]
  },
  {
   "cell_type": "code",
   "execution_count": 165,
   "metadata": {},
   "outputs": [],
   "source": [
    "scoresRF = []"
   ]
  },
  {
   "cell_type": "code",
   "execution_count": 166,
   "metadata": {},
   "outputs": [
    {
     "name": "stdout",
     "output_type": "stream",
     "text": [
      "RandomForestClassificationModel (uid=RandomForestClassifier_f1020bb51aa1) with 1 trees\n",
      "RandomForestClassificationModel (uid=RandomForestClassifier_1ec630c87b72) with 2 trees\n",
      "RandomForestClassificationModel (uid=RandomForestClassifier_897b08a06ad9) with 3 trees\n",
      "RandomForestClassificationModel (uid=RandomForestClassifier_71319bff1e09) with 4 trees\n",
      "RandomForestClassificationModel (uid=RandomForestClassifier_0640ab086da4) with 5 trees\n",
      "RandomForestClassificationModel (uid=RandomForestClassifier_69c25f139a02) with 6 trees\n",
      "RandomForestClassificationModel (uid=RandomForestClassifier_5f0f6b0ebcd4) with 7 trees\n",
      "RandomForestClassificationModel (uid=RandomForestClassifier_03b619b6c19a) with 8 trees\n",
      "RandomForestClassificationModel (uid=RandomForestClassifier_bce50e386e4f) with 9 trees\n",
      "RandomForestClassificationModel (uid=RandomForestClassifier_92ecfff24114) with 10 trees\n",
      "RandomForestClassificationModel (uid=RandomForestClassifier_8452333cf81d) with 11 trees\n",
      "RandomForestClassificationModel (uid=RandomForestClassifier_bfc65aaa6a4c) with 12 trees\n",
      "RandomForestClassificationModel (uid=RandomForestClassifier_9b445884ac2a) with 13 trees\n",
      "RandomForestClassificationModel (uid=RandomForestClassifier_5f49a056634f) with 14 trees\n",
      "RandomForestClassificationModel (uid=RandomForestClassifier_73cd7110aa98) with 15 trees\n",
      "RandomForestClassificationModel (uid=RandomForestClassifier_328a678bd5a5) with 16 trees\n",
      "RandomForestClassificationModel (uid=RandomForestClassifier_d3e2b5513a68) with 17 trees\n",
      "RandomForestClassificationModel (uid=RandomForestClassifier_0540d94bc258) with 18 trees\n",
      "RandomForestClassificationModel (uid=RandomForestClassifier_be6338caf113) with 19 trees\n",
      "RandomForestClassificationModel (uid=RandomForestClassifier_6365cc27abe4) with 20 trees\n"
     ]
    }
   ],
   "source": [
    "for i in range(1, 21):\n",
    "    rf7 = RandomForestClassifier(labelCol=\"label\", featuresCol=\"features\", numTrees=i)\n",
    "    modeloRF7 = rf7.fit(dfTreino5)\n",
    "    print(modeloRF7)\n",
    "    predict = modeloRF7.transform(dfTeste5)\n",
    "    scoresRF.append(MulticlassClassificationEvaluator(labelCol='label', predictionCol='prediction')\\\n",
    "        .evaluate(predict))"
   ]
  },
  {
   "cell_type": "code",
   "execution_count": 167,
   "metadata": {},
   "outputs": [
    {
     "name": "stdout",
     "output_type": "stream",
     "text": [
      "[0.9693706653059002, 0.9714527146879491, 0.968456086488395, 0.9675674072582638, 0.967854887708866, 0.9722657859804615, 0.975630265291107, 0.9757649230292155, 0.9715880912491546, 0.974474877170286, 0.9719600477792781, 0.9729963379595874, 0.9730262194671968, 0.9741780013674535, 0.9733458724720345, 0.9732590082335517, 0.9727920024056073, 0.9730201904339078, 0.9699418797632948, 0.9752947340024619]\n"
     ]
    }
   ],
   "source": [
    "print(scoresRF)"
   ]
  },
  {
   "cell_type": "code",
   "execution_count": 168,
   "metadata": {},
   "outputs": [
    {
     "data": {
      "image/png": "[encoded data removed]",
      "text/plain": [
       "<Figure size 1584x720 with 1 Axes>"
      ]
     },
     "metadata": {
      "needs_background": "light"
     },
     "output_type": "display_data"
    }
   ],
   "source": [
    "fig = plt.figure(figsize=(22,10))\n",
    "plt.title('Random Forest')\n",
    "plt.xlabel('numTrees')\n",
    "plt.ylabel('Acuracia')\n",
    "plt.plot(range(1,21),scoresRF)\n",
    "plt.show()"
   ]
  },
  {
   "cell_type": "code",
   "execution_count": null,
   "metadata": {},
   "outputs": [],
   "source": []
  },
  {
   "cell_type": "code",
   "execution_count": null,
   "metadata": {},
   "outputs": [],
   "source": []
  },
  {
   "cell_type": "code",
   "execution_count": null,
   "metadata": {},
   "outputs": [],
   "source": []
  },
  {
   "cell_type": "code",
   "execution_count": null,
   "metadata": {},
   "outputs": [],
   "source": []
  },
  {
   "cell_type": "code",
   "execution_count": null,
   "metadata": {},
   "outputs": [],
   "source": []
  }
 ],
 "metadata": {
  "kernelspec": {
   "display_name": "Python 3",
   "language": "python",
   "name": "python3"
  },
  "language_info": {
   "codemirror_mode": {
    "name": "ipython",
    "version": 3
   },
   "file_extension": ".py",
   "mimetype": "text/x-python",
   "name": "python",
   "nbconvert_exporter": "python",
   "pygments_lexer": "ipython3",
   "version": "3.7.4"
  }
 },
 "nbformat": 4,
 "nbformat_minor": 4
}
